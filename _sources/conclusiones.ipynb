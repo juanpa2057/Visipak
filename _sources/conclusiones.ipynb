{
 "cells": [
  {
   "cell_type": "markdown",
   "metadata": {},
   "source": [
    "#### Conclusiones y Hallazgos: "
   ]
  },
  {
   "cell_type": "markdown",
   "metadata": {},
   "source": [
    "\n",
    "- Distribución del consumo de energía por máquina y mes\n",
    "\n",
    "\n",
    "- Los análisis indican \n",
    "\n",
    "\n",
    "- Según la segmentación del consumo \n",
    "\n",
    "\n",
    "\n",
    "**Recomendación Sistemas de enfriamiento:**\n",
    "- Mejora de aislamiento térmico de tanques. Agua gana aproximadamente 2°C mientras permanece almacenada en el tanque.\n",
    " \n",
    "- Incremento del factor de carga del chiller Trane. Promedio de carga del chiller Trane es de 50%, se propone llevarlo a porcentajes de carga cercanos al 80% hasta antes de encender chillers auxiliares, teniendo en cuenta que el chiller Trane es el más eficientes los equipos disponibles.\n",
    "\n",
    "**Recomendación adicional:**\n",
    "\n",
    "Con el fin de obtener mayor información de los procesos medidos, será necesario ampliar el alcance del proyecto aumentando el número de variables medidas (físicas y eléctricas). Adicional, se deben medir las ratas de producción de las máquinas que están siendo monitoreadas. Esto con el fin de estimar variaciones en la productividad de la máquina (kWh/Unidad producida). De esta manera se podrá analizar la disciplina operativa que se tenga en los procesos, tiempos muertos de producción o de paro del proceso y posibles estimaciones de costos reales que llevaran a tener información precisa sobre cuales son las acciones que se deben seguir para lograr ahorros significativos. "
   ]
  }
 ],
 "metadata": {
  "kernelspec": {
   "display_name": "Python 3",
   "language": "python",
   "name": "python3"
  },
  "language_info": {
   "codemirror_mode": {
    "name": "ipython",
    "version": 3
   },
   "file_extension": ".py",
   "mimetype": "text/x-python",
   "name": "python",
   "nbconvert_exporter": "python",
   "pygments_lexer": "ipython3",
   "version": "3.9.16"
  },
  "widgets": {
   "application/vnd.jupyter.widget-state+json": {
    "state": {},
    "version_major": 2,
    "version_minor": 0
   }
  }
 },
 "nbformat": 4,
 "nbformat_minor": 4
}
