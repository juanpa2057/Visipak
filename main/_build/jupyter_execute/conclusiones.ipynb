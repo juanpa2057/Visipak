{
 "cells": [
  {
   "cell_type": "markdown",
   "metadata": {},
   "source": [
    "#### Conclusiones y Hallazgos: "
   ]
  },
  {
   "cell_type": "markdown",
   "metadata": {},
   "source": [
    "\n",
    "- Aunque la producción de la línea 7 es la menor de todas, representando solo el 1.65%, se evidencia que este proceso tiene un alto consumo de energía. Por lo tanto, es crucial identificar si los costos de producción se están transfiriendo al producto producido o si se deben a la prestación de servicios a otras áreas de producción.\n",
    "\n",
    "- Se recomienda monitorear y analizar con mayor detalle los procesos de la extrusora Welex 2501 y espuma, ya que son los que tienen la mayor producción. Esto podría revelar oportunidades significativas para el ahorro de energía.\n",
    "\n",
    "- Los datos de producción por proceso indican que la mayor producción semanal se concentra los viernes. Este incremento se atribuye principalmente al proceso de espuma, que contribuye significativamente a los niveles más altos de producción observados ese día.\n",
    "\n",
    "\n",
    "\n",
    "**Recomendación Sistemas de enfriamiento:**\n",
    "- Se recomienda evitar la operación del chiller con factores de carga inferiores al 50% (85 kW), en este rango se tiene una un rendimiento indeseado y por consecuencia una mayor ineficiencia.\n",
    "\n",
    "- La operación de los chillers auxiliares se debe controlar a partir del factor de carga del chiller principal (Trane) y la temperatura de suministro del agua, ya que cuando estos equipos arrancan, el factor de carga del sistema principal baja y su eficiencia cambia.\n",
    "\n",
    "- Los sistemas de enfriamiento demuestran un comportamiento muy estándar en su operación. Esto es un indicio de que el sistema ha trabajado bien y en términos generales mantiene su desempeño según la curva del sistema.\n",
    "\n",
    "**Recomendación adicional:**\n",
    "\n",
    "Con el fin de obtener mayor información de los procesos medidos, será necesario ampliar el alcance del proyecto aumentando el número de variables medidas (físicas y eléctricas). Adicional, se deben medir las ratas de producción de las máquinas que están siendo monitoreadas. Esto con el fin de estimar variaciones en la productividad de la máquina (kWh/Unidad producida). De esta manera se podrá analizar la disciplina operativa que se tenga en los procesos, tiempos muertos de producción o de paro del proceso y posibles estimaciones de costos reales que llevaran a tener información precisa sobre cuales son las acciones que se deben seguir para lograr ahorros significativos. "
   ]
  }
 ],
 "metadata": {
  "kernelspec": {
   "display_name": "Python 3",
   "language": "python",
   "name": "python3"
  },
  "language_info": {
   "codemirror_mode": {
    "name": "ipython",
    "version": 3
   },
   "file_extension": ".py",
   "mimetype": "text/x-python",
   "name": "python",
   "nbconvert_exporter": "python",
   "pygments_lexer": "ipython3",
   "version": "3.9.16"
  },
  "widgets": {
   "application/vnd.jupyter.widget-state+json": {
    "state": {},
    "version_major": 2,
    "version_minor": 0
   }
  }
 },
 "nbformat": 4,
 "nbformat_minor": 4
}